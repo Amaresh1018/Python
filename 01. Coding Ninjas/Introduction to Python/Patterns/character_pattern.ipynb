{
 "cells": [
  {
   "cell_type": "markdown",
   "id": "0749f42c",
   "metadata": {},
   "source": [
    "# Character Patterns"
   ]
  },
  {
   "cell_type": "raw",
   "id": "cbf2a609",
   "metadata": {},
   "source": [
    "ABCD\n",
    "ABCD\n",
    "ABCD\n",
    "ABCD"
   ]
  },
  {
   "cell_type": "code",
   "execution_count": 1,
   "id": "5a5ca20d",
   "metadata": {},
   "outputs": [
    {
     "name": "stdout",
     "output_type": "stream",
     "text": [
      "4\n",
      "ABCD\n",
      "ABCD\n",
      "ABCD\n"
     ]
    }
   ],
   "source": [
    "n = int(input())\n",
    "for i in range(1,n):\n",
    "    for j in range(1,n+1):\n",
    "        print(chr(ord('A')+j-1), end='')\n",
    "    print()"
   ]
  },
  {
   "cell_type": "markdown",
   "id": "d1f65366",
   "metadata": {},
   "source": [
    "#"
   ]
  },
  {
   "cell_type": "raw",
   "id": "184fec73",
   "metadata": {},
   "source": [
    "ABCD\n",
    "BCDE\n",
    "CDEF\n",
    "DEFG"
   ]
  },
  {
   "cell_type": "code",
   "execution_count": 2,
   "id": "696e75cc",
   "metadata": {},
   "outputs": [
    {
     "name": "stdout",
     "output_type": "stream",
     "text": [
      "4\n",
      "ABCD\n",
      "BCDE\n",
      "CDEF\n",
      "DEFG\n",
      "\n"
     ]
    }
   ],
   "source": [
    "def charPattern(n):\n",
    "    pattern = ''\n",
    "    for i in range(n):\n",
    "        for j in range(1,n+1):\n",
    "            pattern += chr(ord('A')+i+j-1)\n",
    "        pattern +='\\n'\n",
    "    return pattern\n",
    "\n",
    "n = int(input())\n",
    "print(charPattern(n))"
   ]
  },
  {
   "cell_type": "markdown",
   "id": "e928df62",
   "metadata": {},
   "source": [
    "#"
   ]
  },
  {
   "cell_type": "raw",
   "id": "dcb69f03",
   "metadata": {},
   "source": [
    "Problem statement\n",
    "Print the following pattern for the given N number of rows.\n",
    "\n",
    "Pattern for N = 4\n",
    "A\n",
    "BC\n",
    "CDE\n",
    "DEFG\n",
    "\n",
    "0 <= N <= 13"
   ]
  },
  {
   "cell_type": "code",
   "execution_count": 3,
   "id": "30ba798e",
   "metadata": {},
   "outputs": [
    {
     "name": "stdout",
     "output_type": "stream",
     "text": [
      "4\n",
      "A\n",
      "BC\n",
      "CDE\n",
      "DEFG\n"
     ]
    }
   ],
   "source": [
    "n = int(input())\n",
    "for i in range(1,n+1):\n",
    "    for j in range(i):\n",
    "        print(chr(ord('A')+i+j-1), end='')\n",
    "    print()"
   ]
  },
  {
   "cell_type": "markdown",
   "id": "79ad4b53",
   "metadata": {},
   "source": [
    "#"
   ]
  },
  {
   "cell_type": "code",
   "execution_count": null,
   "id": "357526f4",
   "metadata": {},
   "outputs": [],
   "source": [
    "Problem statement\n",
    "Print the following pattern for the given number of rows.\n",
    "\n",
    "Pattern for N = 5\n",
    "E\n",
    "DE\n",
    "CDE\n",
    "BCDE\n",
    "ABCDE\n",
    "\n",
    "0 <= N <= 26"
   ]
  },
  {
   "cell_type": "code",
   "execution_count": 6,
   "id": "946c3d3a",
   "metadata": {},
   "outputs": [
    {
     "name": "stdout",
     "output_type": "stream",
     "text": [
      "5\n",
      "E\n",
      "DE\n",
      "CDE\n",
      "BCDE\n",
      "ABCDE\n"
     ]
    }
   ],
   "source": [
    "n = int(input())\n",
    "for i in range(n,0,-1):\n",
    "    k = 0\n",
    "    for j in range(i,n+1):\n",
    "        print(chr(ord('A')+i+k-1), end='')\n",
    "        k += 1\n",
    "    print()"
   ]
  },
  {
   "cell_type": "markdown",
   "id": "abe433ba",
   "metadata": {},
   "source": [
    "#"
   ]
  },
  {
   "cell_type": "markdown",
   "id": "39f967bb",
   "metadata": {},
   "source": [
    "# Assignments"
   ]
  },
  {
   "cell_type": "raw",
   "id": "3e51c60f",
   "metadata": {},
   "source": [
    "Problem statement\n",
    "Print the following pattern for the given N number of rows.\n",
    "\n",
    "Pattern for N = 3\n",
    "A\n",
    "BB\n",
    "CCC"
   ]
  },
  {
   "cell_type": "code",
   "execution_count": 3,
   "id": "e9d9dae2",
   "metadata": {},
   "outputs": [
    {
     "name": "stdout",
     "output_type": "stream",
     "text": [
      "3\n",
      "A\n",
      "BB\n",
      "CCC\n"
     ]
    }
   ],
   "source": [
    "n = int(input())\n",
    "for i in range(1,n+1):\n",
    "    for j in range(i):\n",
    "        print(chr(ord(\"A\")+i-1), end='')\n",
    "    print()"
   ]
  },
  {
   "cell_type": "markdown",
   "id": "eb841de1",
   "metadata": {},
   "source": [
    "#"
   ]
  },
  {
   "cell_type": "code",
   "execution_count": null,
   "id": "b1d6f77b",
   "metadata": {},
   "outputs": [],
   "source": []
  }
 ],
 "metadata": {
  "kernelspec": {
   "display_name": "Python 3 (ipykernel)",
   "language": "python",
   "name": "python3"
  },
  "language_info": {
   "codemirror_mode": {
    "name": "ipython",
    "version": 3
   },
   "file_extension": ".py",
   "mimetype": "text/x-python",
   "name": "python",
   "nbconvert_exporter": "python",
   "pygments_lexer": "ipython3",
   "version": "3.11.4"
  }
 },
 "nbformat": 4,
 "nbformat_minor": 5
}
