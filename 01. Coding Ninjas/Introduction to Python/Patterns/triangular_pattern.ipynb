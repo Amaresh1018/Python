{
 "cells": [
  {
   "cell_type": "markdown",
   "id": "f9e2493c",
   "metadata": {},
   "source": [
    "# Triangular Patterns"
   ]
  },
  {
   "cell_type": "raw",
   "id": "d4a05645",
   "metadata": {},
   "source": [
    "Pattern. 1   \n",
    "\n",
    "1\n",
    "12\n",
    "123\n",
    "1234"
   ]
  },
  {
   "cell_type": "code",
   "execution_count": 2,
   "id": "f1eed667",
   "metadata": {},
   "outputs": [
    {
     "name": "stdout",
     "output_type": "stream",
     "text": [
      "4\n",
      "1\n",
      "12\n",
      "123\n",
      "1234\n",
      "\n"
     ]
    }
   ],
   "source": [
    "def triangularPattern(n):\n",
    "    pattern =''\n",
    "    for i in range(1,n+1):\n",
    "        for j in range(1,i+1):\n",
    "            pattern += str(j)\n",
    "        pattern += '\\n'\n",
    "    return pattern\n",
    "\n",
    "n = int(input())\n",
    "print(triangularPattern(n))"
   ]
  },
  {
   "cell_type": "markdown",
   "id": "81b0edfb",
   "metadata": {},
   "source": [
    "#"
   ]
  },
  {
   "cell_type": "raw",
   "id": "bee31390",
   "metadata": {},
   "source": [
    "Pattern. 2\n",
    "\n",
    "1\n",
    "23\n",
    "456\n",
    "78910"
   ]
  },
  {
   "cell_type": "code",
   "execution_count": 5,
   "id": "1448a8aa",
   "metadata": {},
   "outputs": [
    {
     "name": "stdout",
     "output_type": "stream",
     "text": [
      "4\n",
      "1\n",
      "23\n",
      "456\n",
      "78910\n",
      "\n"
     ]
    }
   ],
   "source": [
    "def triangularPattern(n):\n",
    "    pattern =''\n",
    "    k = 1\n",
    "    for i in range(1,n+1):\n",
    "        for j in range(i):\n",
    "            pattern += str(k)\n",
    "            k += 1\n",
    "        pattern += '\\n'\n",
    "    return pattern\n",
    "    \n",
    "    \n",
    "n = int(input())\n",
    "print(triangularPattern(n))"
   ]
  },
  {
   "cell_type": "markdown",
   "id": "f88d1279",
   "metadata": {},
   "source": [
    "#"
   ]
  },
  {
   "cell_type": "raw",
   "id": "8f215d30",
   "metadata": {},
   "source": [
    "Pattern. 3\n",
    "\n",
    "1\n",
    "23\n",
    "345\n",
    "4567"
   ]
  },
  {
   "cell_type": "code",
   "execution_count": 6,
   "id": "e8ed6baa",
   "metadata": {},
   "outputs": [
    {
     "name": "stdout",
     "output_type": "stream",
     "text": [
      "4\n",
      "1\n",
      "23\n",
      "345\n",
      "4567\n",
      "\n"
     ]
    }
   ],
   "source": [
    "def triangularPattern(n):\n",
    "\n",
    "    pattern = ''\n",
    "    for i in range(1,n+1): \n",
    "        for j in range(1,i+1):\n",
    "            pattern += str(i+j-1)\n",
    "        pattern += '\\n'\n",
    "    return pattern\n",
    "\n",
    "n = int(input())\n",
    "print(triangularPattern(n))"
   ]
  },
  {
   "cell_type": "markdown",
   "id": "481819bf",
   "metadata": {},
   "source": [
    "# "
   ]
  },
  {
   "cell_type": "markdown",
   "id": "be0341a2",
   "metadata": {},
   "source": [
    "## Assignments"
   ]
  },
  {
   "cell_type": "raw",
   "id": "6d9b14f2",
   "metadata": {},
   "source": [
    "Problem statement\n",
    "Print the following pattern for the given N number of rows.\n",
    "\n",
    "Pattern for N = 4\n",
    "*\n",
    "**\n",
    "***\n",
    "****\n",
    "Note : There are no spaces between the stars (*).\n",
    "\n",
    "Constraints\n",
    "0 <= N <= 50"
   ]
  },
  {
   "cell_type": "code",
   "execution_count": 7,
   "id": "dbc42722",
   "metadata": {},
   "outputs": [
    {
     "name": "stdout",
     "output_type": "stream",
     "text": [
      "4\n",
      "*\n",
      "**\n",
      "***\n",
      "****\n"
     ]
    }
   ],
   "source": [
    "n = int(input())\n",
    "for i in range(n):\n",
    "    for j in range(i+1):\n",
    "        print('*', end='')\n",
    "    print()\n"
   ]
  },
  {
   "cell_type": "markdown",
   "id": "6325e380",
   "metadata": {},
   "source": [
    "#"
   ]
  },
  {
   "cell_type": "markdown",
   "id": "70fc24db",
   "metadata": {},
   "source": [
    "Problem statement\n",
    "Print the following pattern for the given N number of rows.\n",
    "\n",
    "Pattern for N = 4\n",
    "1\n",
    "21\n",
    "321\n",
    "4321\n",
    "\n",
    "Constraints\n",
    "0 <= N <= 50"
   ]
  },
  {
   "cell_type": "code",
   "execution_count": 8,
   "id": "eb1205bd",
   "metadata": {},
   "outputs": [
    {
     "name": "stdout",
     "output_type": "stream",
     "text": [
      "4\n",
      "1\n",
      "21\n",
      "321\n",
      "4321\n"
     ]
    }
   ],
   "source": [
    "n = int(input())\n",
    "for i in range(1,n+1):\n",
    "    for j in range(i):\n",
    "        print(i-j, end='')\n",
    "    print()"
   ]
  },
  {
   "cell_type": "markdown",
   "id": "e2411573",
   "metadata": {},
   "source": [
    "#"
   ]
  },
  {
   "cell_type": "raw",
   "id": "b2b585bb",
   "metadata": {},
   "source": [
    "Problem statement\n",
    "Print the following pattern for the given N number of rows.\n",
    "\n",
    "Pattern for N = 4\n",
    "1\n",
    "11\n",
    "111\n",
    "1111"
   ]
  },
  {
   "cell_type": "code",
   "execution_count": 9,
   "id": "9003c831",
   "metadata": {},
   "outputs": [
    {
     "name": "stdout",
     "output_type": "stream",
     "text": [
      "4\n",
      "1\n",
      "11\n",
      "111\n",
      "1111\n"
     ]
    }
   ],
   "source": [
    "n = int(input())\n",
    "for i in range(1,n+1):\n",
    "    for j in range(1,i+1):\n",
    "        print(1, end='')      \n",
    "    print()"
   ]
  },
  {
   "cell_type": "markdown",
   "id": "62999adc",
   "metadata": {},
   "source": [
    "#"
   ]
  },
  {
   "cell_type": "raw",
   "id": "eec8d286",
   "metadata": {},
   "source": [
    "Problem statement\n",
    "Print the following pattern for the given N number of rows.\n",
    "\n",
    "Pattern for N = 4\n",
    "1\n",
    "11\n",
    "202\n",
    "3003"
   ]
  },
  {
   "cell_type": "code",
   "execution_count": 47,
   "id": "92a24f10",
   "metadata": {},
   "outputs": [
    {
     "name": "stdout",
     "output_type": "stream",
     "text": [
      "4\n",
      "1\n",
      "11\n",
      "202\n",
      "3003\n"
     ]
    }
   ],
   "source": [
    "n = int(input())\n",
    "for i in range(1,n+1):\n",
    "    for j in range(1,i+1):\n",
    "        if j == 0 or i == j and i == 1:\n",
    "            print(i, end='')\n",
    "        elif j == 1 or i == j:\n",
    "            print(i-1, end='')\n",
    "        else:\n",
    "            print(0,end='')\n",
    "    print()"
   ]
  },
  {
   "cell_type": "markdown",
   "id": "1e9c192b",
   "metadata": {},
   "source": [
    "#"
   ]
  },
  {
   "cell_type": "raw",
   "id": "129f4dc7",
   "metadata": {},
   "source": [
    "Problem statement\n",
    "Print the following pattern for the given N number of rows.\n",
    "\n",
    "Pattern for N = 4\n",
    "1\n",
    "11\n",
    "121\n",
    "1221"
   ]
  },
  {
   "cell_type": "code",
   "execution_count": 48,
   "id": "ffcbab5e",
   "metadata": {},
   "outputs": [
    {
     "name": "stdout",
     "output_type": "stream",
     "text": [
      "4\n",
      "1\n",
      "11\n",
      "121\n",
      "1221\n"
     ]
    }
   ],
   "source": [
    "n = int(input())\n",
    "print(1)\n",
    "i = 1\n",
    "while i < n:\n",
    "    j = 0\n",
    "    while j <=i:\n",
    "        if j ==0 or i ==j:\n",
    "            print(1,end='')\n",
    "        else:\n",
    "            print(2, end='')\n",
    "        j += 1\n",
    "    print()\n",
    "    i +=1 "
   ]
  },
  {
   "cell_type": "markdown",
   "id": "ee9ff9e4",
   "metadata": {},
   "source": [
    "#"
   ]
  },
  {
   "cell_type": "raw",
   "id": "02e15f99",
   "metadata": {},
   "source": [
    "Problem statement\n",
    "Print the following pattern for the given N number of rows.\n",
    "\n",
    "Pattern for N = 4\n",
    "1234\n",
    "123\n",
    "12\n",
    "1"
   ]
  },
  {
   "cell_type": "code",
   "execution_count": 59,
   "id": "4225a62f",
   "metadata": {},
   "outputs": [
    {
     "name": "stdout",
     "output_type": "stream",
     "text": [
      "4\n",
      "1234\n",
      "123\n",
      "12\n",
      "1\n"
     ]
    }
   ],
   "source": [
    "n = int(input())\n",
    "for i in range(n,0,-1):\n",
    "    for j in range(1,i+1):\n",
    "        print(j,end='')\n",
    "        \n",
    "    print()"
   ]
  },
  {
   "cell_type": "markdown",
   "id": "973f3851",
   "metadata": {},
   "source": [
    "#"
   ]
  },
  {
   "cell_type": "raw",
   "id": "34b4542b",
   "metadata": {},
   "source": [
    "Print the following pattern for the given N number of rows.\n",
    "\n",
    "Pattern for N = 4\n",
    "4444\n",
    "333\n",
    "22\n",
    "1"
   ]
  },
  {
   "cell_type": "code",
   "execution_count": 61,
   "id": "1ff84de6",
   "metadata": {},
   "outputs": [
    {
     "name": "stdout",
     "output_type": "stream",
     "text": [
      "4\n",
      "4444\n",
      "333\n",
      "22\n",
      "1\n"
     ]
    }
   ],
   "source": [
    "n = int(input())\n",
    "for i in range(n,0,-1):\n",
    "    for j in range(i):\n",
    "        print(i, end='')\n",
    "    print()"
   ]
  },
  {
   "cell_type": "markdown",
   "id": "36aa1209",
   "metadata": {},
   "source": [
    "#"
   ]
  }
 ],
 "metadata": {
  "kernelspec": {
   "display_name": "Python 3 (ipykernel)",
   "language": "python",
   "name": "python3"
  },
  "language_info": {
   "codemirror_mode": {
    "name": "ipython",
    "version": 3
   },
   "file_extension": ".py",
   "mimetype": "text/x-python",
   "name": "python",
   "nbconvert_exporter": "python",
   "pygments_lexer": "ipython3",
   "version": "3.11.4"
  }
 },
 "nbformat": 4,
 "nbformat_minor": 5
}
