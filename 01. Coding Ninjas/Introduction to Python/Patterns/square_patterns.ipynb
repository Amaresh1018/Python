{
 "cells": [
  {
   "cell_type": "markdown",
   "id": "546a710d",
   "metadata": {},
   "source": [
    "# Square Patterns"
   ]
  },
  {
   "cell_type": "raw",
   "id": "e795763e",
   "metadata": {},
   "source": [
    "Problem statement\n",
    "Print the following pattern for the given N number of rows.\n",
    "\n",
    "Pattern for N = 4\n",
    "4444\n",
    "4444\n",
    "4444\n",
    "4444"
   ]
  },
  {
   "cell_type": "code",
   "execution_count": 1,
   "id": "12ddc922",
   "metadata": {},
   "outputs": [
    {
     "name": "stdout",
     "output_type": "stream",
     "text": [
      "4\n",
      "4444\n",
      "4444\n",
      "4444\n",
      "4444\n"
     ]
    }
   ],
   "source": [
    "n = int(input())\n",
    "\n",
    "for i in range(n):\n",
    "    for j in range(n):\n",
    "        print(n, end='')\n",
    "    print()"
   ]
  },
  {
   "cell_type": "markdown",
   "id": "3fe5b96e",
   "metadata": {},
   "source": [
    "### Type: 1"
   ]
  },
  {
   "cell_type": "raw",
   "id": "7aa935ea",
   "metadata": {},
   "source": [
    "1234\n",
    "1234\n",
    "1234\n",
    "1234"
   ]
  },
  {
   "cell_type": "code",
   "execution_count": 2,
   "id": "242f3a69",
   "metadata": {},
   "outputs": [
    {
     "name": "stdout",
     "output_type": "stream",
     "text": [
      "4\n",
      "1234\n",
      "1234\n",
      "1234\n",
      "1234\n",
      "\n"
     ]
    }
   ],
   "source": [
    "def squarePattern(n):\n",
    "    \n",
    "    pattern = ''\n",
    "    \n",
    "    for i in range(n):\n",
    "        for j in range(1,n+1):\n",
    "            pattern += str(j)\n",
    "        pattern += '\\n'\n",
    "    return pattern\n",
    "\n",
    "n = int(input())\n",
    "print(squarePattern(n))"
   ]
  },
  {
   "cell_type": "markdown",
   "id": "c78c2c6e",
   "metadata": {},
   "source": [
    "### Type: 2"
   ]
  },
  {
   "cell_type": "raw",
   "id": "cec4880f",
   "metadata": {},
   "source": [
    "1111\n",
    "2222\n",
    "3333\n",
    "4444"
   ]
  },
  {
   "cell_type": "code",
   "execution_count": 3,
   "id": "84f4f178",
   "metadata": {},
   "outputs": [
    {
     "name": "stdout",
     "output_type": "stream",
     "text": [
      "4\n",
      "1111\n",
      "2222\n",
      "3333\n",
      "4444\n",
      "\n"
     ]
    }
   ],
   "source": [
    "def squarePattern(n):\n",
    "    \n",
    "    pattern = '' \n",
    "    \n",
    "    for i in range(1,n+1):\n",
    "        for j in range(n):\n",
    "            pattern += str(i)\n",
    "        pattern += '\\n'\n",
    "    return pattern\n",
    "\n",
    "n = int(input())\n",
    "print(squarePattern(n))"
   ]
  },
  {
   "cell_type": "markdown",
   "id": "c2ec8757",
   "metadata": {},
   "source": [
    "### Type: 3"
   ]
  },
  {
   "cell_type": "markdown",
   "id": "5b046437",
   "metadata": {},
   "source": [
    "4321    \n",
    "4321    \n",
    "4321 "
   ]
  },
  {
   "cell_type": "code",
   "execution_count": 4,
   "id": "7c018ff4",
   "metadata": {},
   "outputs": [
    {
     "name": "stdout",
     "output_type": "stream",
     "text": [
      "5\n",
      "54321\n",
      "54321\n",
      "54321\n",
      "54321\n",
      "54321\n",
      "\n"
     ]
    }
   ],
   "source": [
    "def squarePattern(n):\n",
    "    \n",
    "    pattern = ''\n",
    "\n",
    "    for i in range(n):\n",
    "        for j in range(n,0,-1):\n",
    "            pattern += str(j)\n",
    "        pattern += '\\n'\n",
    "\n",
    "    return pattern\n",
    "\n",
    "n = int(input())\n",
    "print(squarePattern(n))"
   ]
  },
  {
   "cell_type": "code",
   "execution_count": null,
   "id": "a44e0d45",
   "metadata": {},
   "outputs": [],
   "source": []
  }
 ],
 "metadata": {
  "kernelspec": {
   "display_name": "Python 3 (ipykernel)",
   "language": "python",
   "name": "python3"
  },
  "language_info": {
   "codemirror_mode": {
    "name": "ipython",
    "version": 3
   },
   "file_extension": ".py",
   "mimetype": "text/x-python",
   "name": "python",
   "nbconvert_exporter": "python",
   "pygments_lexer": "ipython3",
   "version": "3.11.4"
  }
 },
 "nbformat": 4,
 "nbformat_minor": 5
}
