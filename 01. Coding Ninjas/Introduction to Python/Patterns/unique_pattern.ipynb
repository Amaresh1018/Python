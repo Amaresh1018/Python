{
 "cells": [
  {
   "cell_type": "markdown",
   "id": "348df43c",
   "metadata": {},
   "source": [
    "## Mirror number pattern"
   ]
  },
  {
   "cell_type": "raw",
   "id": "bdcc257e",
   "metadata": {},
   "source": [
    "Problem statement\n",
    "Print the following pattern for the given N number of rows.\n",
    "\n",
    "Pattern for N = 4\n",
    "...1\n",
    "..12\n",
    ".123\n",
    "1234\n",
    "The dots represent spaces.\n",
    "\n",
    "Constraints\n",
    "0 <= N <= 50"
   ]
  },
  {
   "cell_type": "code",
   "execution_count": 6,
   "id": "58cde2c4",
   "metadata": {},
   "outputs": [
    {
     "name": "stdout",
     "output_type": "stream",
     "text": [
      "4\n",
      "   1\n",
      "  12\n",
      " 123\n",
      "1234\n"
     ]
    }
   ],
   "source": [
    "n = int(input())\n",
    "for i in range(1,n+1):\n",
    "    \n",
    "    # For space\n",
    "    for space in range(n-i):\n",
    "        print(' ',end= '')\n",
    "    \n",
    "    # For pattern\n",
    "    for j in range(1,i+1):\n",
    "        print(j,end=\"\")\n",
    "    print()"
   ]
  },
  {
   "cell_type": "markdown",
   "id": "1abb5c85",
   "metadata": {},
   "source": [
    "#"
   ]
  },
  {
   "cell_type": "markdown",
   "id": "08abd857",
   "metadata": {},
   "source": [
    "##  Isosceles Pattern"
   ]
  },
  {
   "cell_type": "raw",
   "id": "f72aa01b",
   "metadata": {},
   "source": [
    "   1\n",
    "  121\n",
    " 12321\n",
    "1234321    "
   ]
  },
  {
   "cell_type": "code",
   "execution_count": 16,
   "id": "b66c9451",
   "metadata": {},
   "outputs": [
    {
     "name": "stdout",
     "output_type": "stream",
     "text": [
      "4\n",
      "   1\n",
      "  121\n",
      " 12321\n",
      "1234321\n"
     ]
    }
   ],
   "source": [
    "n = int(input())\n",
    "\n",
    "for i in range(1,n+1):\n",
    "    \n",
    "    # For space\n",
    "    for space in range(n-i):\n",
    "        print(' ',end= '')\n",
    "    \n",
    "    # Increasing sequence\n",
    "    for j in range(1,i+1):\n",
    "        print(j,end=\"\")\n",
    "    \n",
    "    # Decreasing sequence\n",
    "    for k in range(1,i):\n",
    "        print(i - k ,end=\"\")\n",
    "        \n",
    "    print()\n",
    "    \n",
    "    "
   ]
  },
  {
   "cell_type": "markdown",
   "id": "473246ee",
   "metadata": {},
   "source": [
    "# "
   ]
  },
  {
   "cell_type": "markdown",
   "id": "48698c98",
   "metadata": {},
   "source": [
    "##   Star Pattern"
   ]
  },
  {
   "cell_type": "raw",
   "id": "14567036",
   "metadata": {},
   "source": [
    "Print the following pattern\n",
    "\n",
    "Pattern for N = 4\n",
    "   *\n",
    "  ***\n",
    " *****\n",
    "*******\n",
    "\n",
    "Constraints :\n",
    "0 <= N <= 50"
   ]
  },
  {
   "cell_type": "code",
   "execution_count": 19,
   "id": "2e7a38b2",
   "metadata": {},
   "outputs": [
    {
     "name": "stdout",
     "output_type": "stream",
     "text": [
      "4\n",
      "   *\n",
      "  ***\n",
      " *****\n",
      "*******\n"
     ]
    }
   ],
   "source": [
    "inp = int(input())\n",
    "for i in range(1,inp+1):\n",
    "    for space in range(inp - i):\n",
    "        print(' ',end='')\n",
    "    for j in range(i):\n",
    "        print('*', end='')\n",
    "    for k in range(1,i):\n",
    "        print('*', end='')\n",
    "    print()"
   ]
  },
  {
   "cell_type": "markdown",
   "id": "d45cd5d2",
   "metadata": {},
   "source": [
    "# "
   ]
  },
  {
   "cell_type": "markdown",
   "id": "374ec808",
   "metadata": {},
   "source": [
    "##  Pattern: Triangle of numbers"
   ]
  },
  {
   "cell_type": "raw",
   "id": "8c4941f5",
   "metadata": {},
   "source": [
    "Problem statement\n",
    "Print the following pattern for the given number of rows.\n",
    "\n",
    "Pattern for N = 4\n",
    "   1\n",
    "  232\n",
    " 34543\n",
    "4567654"
   ]
  },
  {
   "cell_type": "code",
   "execution_count": 30,
   "id": "faf1d815",
   "metadata": {},
   "outputs": [
    {
     "name": "stdout",
     "output_type": "stream",
     "text": [
      "4\n",
      "   1\n",
      "  232\n",
      " 34543\n",
      "4567654\n"
     ]
    }
   ],
   "source": [
    "n = int(input())\n",
    "\n",
    "for i in range(1,n+1):\n",
    "    for space in range(n-i):\n",
    "        print(' ', end='')\n",
    "    \n",
    "    for j in range(1,i+1):\n",
    "        print(i+j-1, end = '')\n",
    "    \n",
    "    for k in range(1,i):\n",
    "        print(2*i-k-1,end='')\n",
    "    print()"
   ]
  },
  {
   "cell_type": "markdown",
   "id": "44ac3e7e",
   "metadata": {},
   "source": [
    "#"
   ]
  },
  {
   "cell_type": "markdown",
   "id": "a21ed10b",
   "metadata": {},
   "source": [
    "##  Diamond of Stars"
   ]
  },
  {
   "cell_type": "raw",
   "id": "24af29ee",
   "metadata": {},
   "source": [
    "Print the following pattern for the given number of rows.\n",
    "\n",
    "Note: N is always odd.\n",
    "\n",
    "Pattern for N = 5\n",
    "\n",
    "  *\n",
    " ***\n",
    "*****\n",
    " ***\n",
    "  *\n",
    "\n",
    "Constraints :\n",
    "1 <= N <= 49"
   ]
  },
  {
   "cell_type": "code",
   "execution_count": 11,
   "id": "56dc4d19",
   "metadata": {},
   "outputs": [
    {
     "name": "stdout",
     "output_type": "stream",
     "text": [
      "10\n",
      "    *\n",
      "   ***\n",
      "  *****\n",
      " *******\n",
      "*********\n",
      " *******\n",
      "  *****\n",
      "   ***\n",
      "    *\n"
     ]
    }
   ],
   "source": [
    "n = int(input())\n",
    "\n",
    "# For first part\n",
    "n1 = (n+1)//2\n",
    "for i in range(1,n1+1):\n",
    "    # Space are in deccending order \n",
    "    for space in range(n1-i):\n",
    "        print(' ',end='')\n",
    "    for j in range(i):\n",
    "        print('*',end='')\n",
    "    for k in range(i-1):\n",
    "        print('*', end='')\n",
    "    print()\n",
    "\n",
    "# For Second part\n",
    "n2 = n1-1\n",
    "for i in range(n2,0,-1):\n",
    "    # Space are in decending order\n",
    "    for space in range(n2-i+1):\n",
    "        print(' ', end='')\n",
    "    for j in range(2*i-1):\n",
    "        print('*',end='')\n",
    "    print()\n",
    "     "
   ]
  },
  {
   "cell_type": "markdown",
   "id": "f9c5dc99",
   "metadata": {},
   "source": [
    "#"
   ]
  },
  {
   "cell_type": "markdown",
   "id": "c00ae64e",
   "metadata": {},
   "source": [
    "#  Number Pattern"
   ]
  },
  {
   "cell_type": "raw",
   "id": "7d4a6806",
   "metadata": {},
   "source": [
    "Problem statement\n",
    "Print the following pattern for n number of rows.\n",
    "Note: each line consist of equal number of characters + spaces. Suppose you\n",
    "are printing xth line for N=n. You need to print 1..x followed by (n-x) spaces,\n",
    "again (n-x) spaces followed by x..1\n",
    "\n",
    "1        1\n",
    "12      21\n",
    "123    321\n",
    "1234  4321\n",
    "1234554321\n"
   ]
  },
  {
   "cell_type": "code",
   "execution_count": 28,
   "id": "698102ec",
   "metadata": {},
   "outputs": [
    {
     "name": "stdout",
     "output_type": "stream",
     "text": [
      "5\n",
      "1        1\n",
      "12      21\n",
      "123    321\n",
      "1234  4321\n",
      "1234554321\n"
     ]
    }
   ],
   "source": [
    "n = int(input())\n",
    "\n",
    "for i in range(1,n+1):\n",
    "    for j in range(1,i+1):\n",
    "        print(j,end='')\n",
    "    \n",
    "    for space in range(2*n-2*i):\n",
    "        print(' ', end='')\n",
    "    \n",
    "    for k in range(1,i+1):\n",
    "        print(i-k+1,end='')\n",
    "    \n",
    "    print()\n",
    "    "
   ]
  },
  {
   "cell_type": "markdown",
   "id": "54c64c54",
   "metadata": {},
   "source": [
    "#"
   ]
  },
  {
   "cell_type": "markdown",
   "id": "44c0d923",
   "metadata": {},
   "source": [
    "#  Zeros and Stars Pattern"
   ]
  },
  {
   "cell_type": "raw",
   "id": "8d33e94e",
   "metadata": {},
   "source": [
    "Problem statement\n",
    "Print the following pattern\n",
    "\n",
    "Pattern for N = 4\n",
    "\n",
    "*000*000*\n",
    "0*00*00*0\n",
    "00*0*0*00\n",
    "000***000"
   ]
  },
  {
   "cell_type": "code",
   "execution_count": 2,
   "id": "ea76683c",
   "metadata": {},
   "outputs": [
    {
     "name": "stdout",
     "output_type": "stream",
     "text": [
      "4\n",
      "*000*000*\n",
      "0*00*00*0\n",
      "00*0*0*00\n",
      "000***000\n"
     ]
    }
   ],
   "source": [
    "n = int(input())\n",
    "for i in range(1,n+1):\n",
    "    for j in range(i-1):\n",
    "        print('0', end='')\n",
    "    \n",
    "    print('*', end='')\n",
    "    \n",
    "    for k in range(n-i):\n",
    "        print('0',end='')\n",
    "    \n",
    "    print('*', end='')\n",
    "    \n",
    "    for l in range(n-i):\n",
    "        print('0', end='')\n",
    "    \n",
    "    print('*', end='')\n",
    "    \n",
    "    for m in range(i-1):\n",
    "        print('0',end='')\n",
    "    \n",
    "    print()\n",
    "    "
   ]
  },
  {
   "cell_type": "markdown",
   "id": "59377607",
   "metadata": {},
   "source": [
    "#"
   ]
  },
  {
   "cell_type": "markdown",
   "id": "b4d7313d",
   "metadata": {},
   "source": [
    "#  Pyramid Number Pattern"
   ]
  },
  {
   "cell_type": "raw",
   "id": "e3b26d62",
   "metadata": {},
   "source": [
    "Problem statement\n",
    "Print the following pattern for the given number of rows.\n",
    "\n",
    "Pattern for N = 4\n",
    "   1\n",
    "  212\n",
    " 32123\n",
    "4321234\n",
    "Input format : N (Total no. of rows)\n",
    "\n",
    "Output format : Pattern in N lines"
   ]
  },
  {
   "cell_type": "code",
   "execution_count": 3,
   "id": "a2684764",
   "metadata": {},
   "outputs": [
    {
     "name": "stdout",
     "output_type": "stream",
     "text": [
      "4\n",
      "   1\n",
      "  212\n",
      " 32123\n",
      "4321234\n"
     ]
    }
   ],
   "source": [
    "n = int(input())\n",
    "for i in range(1,n+1):\n",
    "    \n",
    "    for space in range(n-i):\n",
    "        print(' ', end='')\n",
    "    \n",
    "    for j in range(1,i+1):\n",
    "        print(i+1-j,end='')\n",
    "    p = 2\n",
    "    for k in range(i-1):\n",
    "        print(p, end='')\n",
    "        p += 1\n",
    "    print()"
   ]
  },
  {
   "cell_type": "markdown",
   "id": "1fb50f58",
   "metadata": {},
   "source": [
    "#"
   ]
  },
  {
   "cell_type": "markdown",
   "id": "a5e98d65",
   "metadata": {},
   "source": [
    "#  Arrow pattern "
   ]
  },
  {
   "cell_type": "raw",
   "id": "730200f8",
   "metadata": {},
   "source": [
    "Problem statement\n",
    "Print the following pattern for the given number of rows.\n",
    "\n",
    "Assume N is always odd.\n",
    "\n",
    "Note : There is space after every star. Pattern for N = 7\n",
    "*\n",
    " * *\n",
    "   * * *\n",
    "     * * * *\n",
    "   * * *\n",
    " * *\n",
    "*"
   ]
  },
  {
   "cell_type": "code",
   "execution_count": 4,
   "id": "9e232be0",
   "metadata": {},
   "outputs": [
    {
     "name": "stdout",
     "output_type": "stream",
     "text": [
      "7\n",
      "* \n",
      " * * \n",
      "  * * * \n",
      "   * * * * \n",
      "  * * * \n",
      " * * \n",
      "* \n"
     ]
    }
   ],
   "source": [
    "n = int(input())\n",
    "\n",
    "# first part of the  pattern\n",
    "n1 = (n+1)//2\n",
    "for i in range(n1):\n",
    "    for spaces in range(i):\n",
    "        print(' ', end='')\n",
    "    \n",
    "    for stars in range(i+1):\n",
    "        print('* ', end='')\n",
    "    print()\n",
    "\n",
    "#  second part of the pattern\n",
    "n2 = n//2\n",
    "\n",
    "for i in range (n2,0,-1):\n",
    "    for spaces in range(i-1):\n",
    "        print(' ',end='')\n",
    "    \n",
    "    for stars in range(i):\n",
    "        print('* ', end='')\n",
    "    print()\n"
   ]
  },
  {
   "cell_type": "markdown",
   "id": "b4eeb245",
   "metadata": {},
   "source": [
    "#"
   ]
  },
  {
   "cell_type": "markdown",
   "id": "a9a4cae6",
   "metadata": {},
   "source": [
    "#  Binary Pattern "
   ]
  },
  {
   "cell_type": "raw",
   "id": "0ac6e32c",
   "metadata": {},
   "source": [
    "Problem statement\n",
    "Print the following pattern for the given number of rows.\n",
    "\n",
    "Pattern for N = 4\n",
    "1111\n",
    "000\n",
    "11\n",
    "0\n",
    "Input format : N (Total no. of rows)\n",
    "\n",
    "Output format : Pattern in N lines"
   ]
  },
  {
   "cell_type": "code",
   "execution_count": 2,
   "id": "3157a92a",
   "metadata": {},
   "outputs": [
    {
     "name": "stdout",
     "output_type": "stream",
     "text": [
      "4\n",
      "1111\n",
      "000\n",
      "11\n",
      "0\n"
     ]
    }
   ],
   "source": [
    "n = int(input())\n",
    "flag = True\n",
    "for i in range(n,0,-1):\n",
    "    for j in range(i):\n",
    "        if flag:\n",
    "            print('1',end='')\n",
    "        else:\n",
    "            print('0', end='')\n",
    "    flag = not flag\n",
    "    print()"
   ]
  },
  {
   "cell_type": "code",
   "execution_count": 46,
   "id": "8e29785c",
   "metadata": {},
   "outputs": [
    {
     "name": "stdout",
     "output_type": "stream",
     "text": [
      "5\n",
      "11111\n",
      "0000\n",
      "111\n",
      "00\n",
      "1\n"
     ]
    }
   ],
   "source": [
    "n = int(input())\n",
    "\n",
    "for i in range(1,n+1):\n",
    "    for j in range(1,n-i+2):\n",
    "        if i%2 == 1:\n",
    "            print('1',end='')\n",
    "        else:\n",
    "            print('0',end='')\n",
    "    print()"
   ]
  },
  {
   "cell_type": "markdown",
   "id": "4b505db0",
   "metadata": {},
   "source": [
    "# "
   ]
  },
  {
   "cell_type": "markdown",
   "id": "80a052e1",
   "metadata": {},
   "source": [
    "#  Print Number Pyramid"
   ]
  },
  {
   "cell_type": "raw",
   "id": "286c0a16",
   "metadata": {},
   "source": [
    "Problem statement\n",
    "Print the following pattern for a given n.\n",
    "\n",
    "For eg. N = 6\n",
    "123456\n",
    "  23456\n",
    "    3456\n",
    "      456\n",
    "        56\n",
    "          6\n",
    "        56\n",
    "      456\n",
    "    3456\n",
    "  23456\n",
    "123456"
   ]
  },
  {
   "cell_type": "code",
   "execution_count": 26,
   "id": "a7c24a97",
   "metadata": {},
   "outputs": [
    {
     "name": "stdout",
     "output_type": "stream",
     "text": [
      "6\n",
      "123456\n",
      " 23456\n",
      "  3456\n",
      "   456\n",
      "    56\n",
      "     6\n",
      "    56\n",
      "   456\n",
      "  3456\n",
      " 23456\n",
      "123456\n"
     ]
    }
   ],
   "source": [
    "n = int(input())\n",
    "n1 = (2*n+1)//2\n",
    "for i in range(1,n1+1):\n",
    "    for space in range(i-1):\n",
    "        print(' ', end='')\n",
    "    for j in range(i,n1+1):\n",
    "        print(j, end='')\n",
    "    print()\n",
    "\n",
    "n2 = n1-1\n",
    "for i in range(1,n2+1):\n",
    "    for space in range(n2-i):\n",
    "        print(' ', end='')\n",
    "    for j in range(i+1):\n",
    "        print(n2+j-i+1, end='')\n",
    "    print()\n",
    "    "
   ]
  },
  {
   "cell_type": "markdown",
   "id": "631aba07",
   "metadata": {},
   "source": [
    "#"
   ]
  },
  {
   "cell_type": "markdown",
   "id": "b32259fd",
   "metadata": {},
   "source": [
    "#  Rectangular numbers"
   ]
  },
  {
   "cell_type": "raw",
   "id": "6cc68d75",
   "metadata": {},
   "source": [
    "Problem statement\n",
    "Print the following pattern for the given number of rows.\n",
    "\n",
    "Pattern for N = 4\n",
    "4444444\n",
    "4333334\n",
    "4322234\n",
    "4321234\n",
    "4322234\n",
    "4333334  \n",
    "4444444\n",
    "Input format : N (Total no. of rows)\n",
    "\n",
    "Output format : Pattern in N lines"
   ]
  },
  {
   "cell_type": "code",
   "execution_count": 5,
   "id": "835bd0e0",
   "metadata": {},
   "outputs": [
    {
     "name": "stdout",
     "output_type": "stream",
     "text": [
      "4\n",
      "4444444\n",
      "4333334\n",
      "4322234\n",
      "4321234\n",
      "4322234\n",
      "4333334\n",
      "4444444\n"
     ]
    }
   ],
   "source": [
    "n = int(input())\n",
    "for i in range(1,n+1):\n",
    "    temp = n\n",
    "    for j in range(1,i):\n",
    "        print(temp,end=\"\")\n",
    "        temp = temp -1 \n",
    "    for j in range(1,(2*n) - (2*i) + 2): \n",
    "        print(n-i+1,end=\"\") \n",
    "    for j in range(1,i):\n",
    "        temp = temp+1 \n",
    "        print(temp,end=\"\") \n",
    "    print()\n",
    "    \n",
    "for i in range(n-1,0,-1):\n",
    "    temp = n\n",
    "    for j in range(1,i):\n",
    "        print(temp,end=\"\") \n",
    "        temp = temp - 1\n",
    "    for j in range(1,(2*n) - (2*i) + 2):\n",
    "        print(n-i+1,end=\"\") \n",
    "    for j in range(1,i):\n",
    "        temp = temp+1 \n",
    "        print(temp,end=\"\") \n",
    "    print()"
   ]
  },
  {
   "cell_type": "code",
   "execution_count": 62,
   "id": "7be3b0a4",
   "metadata": {},
   "outputs": [
    {
     "name": "stdout",
     "output_type": "stream",
     "text": [
      "4\n",
      "4444444\n",
      "0000000\n",
      "0000000\n",
      "0000000\n",
      "0000000\n",
      "0000000\n",
      "0000000\n"
     ]
    }
   ],
   "source": [
    "n = int(input())\n",
    "# create empty matrix of size (2n-1)x(2n-1)\n",
    "li_2d = [[0] * (2*n-1) for i in range(2*n-1)]\n",
    "\n",
    "\n",
    "# fill in the matrix with the numbers\n",
    "for i in range(1):\n",
    "    for j in range(i, 2*n-i-1):\n",
    "        li_2d[i][j] = n-i        \n",
    "#         li_2d[j][i] = n-i\n",
    "#         li_2d[2*n-i-2][j] = n-i\n",
    "#         li_2d[j][2*n-i-2] = n-i\n",
    "\n",
    "# print the li_2d\n",
    "for row in li_2d:\n",
    "    for num in row:\n",
    "        print(num, end=\"\")\n",
    "    print()\n"
   ]
  },
  {
   "cell_type": "markdown",
   "id": "99a795ac",
   "metadata": {},
   "source": [
    "#"
   ]
  },
  {
   "cell_type": "markdown",
   "id": "2e59d99b",
   "metadata": {},
   "source": [
    "#  Print the pattern "
   ]
  },
  {
   "cell_type": "raw",
   "id": "d02796ae",
   "metadata": {},
   "source": [
    "Problem statement\n",
    "Print the following pattern for the given number of rows.\n",
    "\n",
    "Pattern for N = 5\n",
    " 1    2   3    4   5\n",
    " 11   12  13   14  15\n",
    " 21   22  23   24  25\n",
    " 16   17  18   19  20\n",
    " 6    7    8   9   10\n",
    "Input format : N (Total no. of rows)\n",
    "\n",
    "Output format : Pattern in N lines"
   ]
  },
  {
   "cell_type": "code",
   "execution_count": 26,
   "id": "4b930139",
   "metadata": {},
   "outputs": [
    {
     "name": "stdout",
     "output_type": "stream",
     "text": [
      "5\n",
      "1 2 3 4 5 \n",
      "11 12 13 14 15 \n",
      "21 22 23 24 25 \n",
      "16 17 18 19 20 \n",
      "6 7 8 9 10 \n"
     ]
    }
   ],
   "source": [
    "n = int(input())\n",
    "\n",
    "li = []\n",
    "\n",
    "for i in range(1,n*n+1):\n",
    "    li.append(i);\n",
    "\n",
    "ans = []\n",
    "cnt = 0\n",
    "\n",
    "for i in range(n):\n",
    "    ans.append(li[cnt:cnt+n])\n",
    "    cnt += n\n",
    "    \n",
    "for i in range(0,n,2):\n",
    "    for j in range(n):\n",
    "        print(ans[i][j], end=' ')\n",
    "    print()\n",
    "    \n",
    "for i in range(n-1-(n%2),-1,-2):\n",
    "    for j in range(n):\n",
    "        print(ans[i][j], end=' ')\n",
    "    print()\n"
   ]
  }
 ],
 "metadata": {
  "kernelspec": {
   "display_name": "Python 3 (ipykernel)",
   "language": "python",
   "name": "python3"
  },
  "language_info": {
   "codemirror_mode": {
    "name": "ipython",
    "version": 3
   },
   "file_extension": ".py",
   "mimetype": "text/x-python",
   "name": "python",
   "nbconvert_exporter": "python",
   "pygments_lexer": "ipython3",
   "version": "3.11.4"
  }
 },
 "nbformat": 4,
 "nbformat_minor": 5
}
